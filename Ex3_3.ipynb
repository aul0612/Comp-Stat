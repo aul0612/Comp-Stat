{
 "cells": [
  {
   "cell_type": "code",
   "execution_count": 1,
   "metadata": {},
   "outputs": [
    {
     "ename": "TypingError",
     "evalue": "Failed in nopython mode pipeline (step: nopython frontend)\n\u001b[1m\u001b[1m\u001b[1mNo implementation of function Function(<function std at 0x000001DE4DFF8CC0>) found for signature:\n \n >>> std(array(float64, 1d, C), ddof=Literal[int](1))\n \nThere are 2 candidate implementations:\n\u001b[1m  - Of which 2 did not match due to:\n  Overload in function 'array_std': File: numba\\np\\arraymath.py: Line 467.\n    With argument(s): '(array(float64, 1d, C), ddof=int64)':\u001b[0m\n\u001b[1m   Rejected as the implementation raised a specific error:\n     TypingError: \u001b[1mgot an unexpected keyword argument 'ddof'\u001b[0m\u001b[0m\n  raised from c:\\Users\\klaus\\anaconda3\\Lib\\site-packages\\numba\\core\\typing\\templates.py:784\n\u001b[0m\n\u001b[0m\u001b[1mDuring: resolving callee type: Function(<function std at 0x000001DE4DFF8CC0>)\u001b[0m\n\u001b[0m\u001b[1mDuring: typing of call at C:\\Users\\klaus\\AppData\\Local\\Temp\\ipykernel_14820\\217391346.py (17)\n\u001b[0m\n\u001b[1m\nFile \"..\\..\\..\\..\\..\\..\\AppData\\Local\\Temp\\ipykernel_14820\\217391346.py\", line 17:\u001b[0m\n\u001b[1m<source missing, REPL/exec in use?>\u001b[0m\n",
     "output_type": "error",
     "traceback": [
      "\u001b[1;31m---------------------------------------------------------------------------\u001b[0m",
      "\u001b[1;31mTypingError\u001b[0m                               Traceback (most recent call last)",
      "Cell \u001b[1;32mIn[1], line 25\u001b[0m\n\u001b[0;32m     23\u001b[0m mu_est \u001b[38;5;241m=\u001b[39m np\u001b[38;5;241m.\u001b[39mmean(sample)\n\u001b[0;32m     24\u001b[0m sd_est \u001b[38;5;241m=\u001b[39m np\u001b[38;5;241m.\u001b[39mstd(sample, ddof\u001b[38;5;241m=\u001b[39m\u001b[38;5;241m1\u001b[39m)\n\u001b[1;32m---> 25\u001b[0m bootstrap_est \u001b[38;5;241m=\u001b[39m \u001b[43mbootstrap_t_func\u001b[49m\u001b[43m(\u001b[49m\u001b[43msample\u001b[49m\u001b[43m,\u001b[49m\u001b[43m \u001b[49m\u001b[43mmu_est\u001b[49m\u001b[43m,\u001b[49m\u001b[43m \u001b[49m\u001b[43mn\u001b[49m\u001b[43m,\u001b[49m\u001b[43m \u001b[49m\u001b[43mM\u001b[49m\u001b[43m)\u001b[49m\n\u001b[0;32m     26\u001b[0m quants \u001b[38;5;241m=\u001b[39m np\u001b[38;5;241m.\u001b[39mquantile(bootstrap_est, [\u001b[38;5;241m1\u001b[39m\u001b[38;5;241m-\u001b[39malpha\u001b[38;5;241m/\u001b[39m\u001b[38;5;241m2\u001b[39m, alpha\u001b[38;5;241m/\u001b[39m\u001b[38;5;241m2\u001b[39m])\n\u001b[0;32m     27\u001b[0m CI[i, \u001b[38;5;241m0\u001b[39m:\u001b[38;5;241m2\u001b[39m] \u001b[38;5;241m=\u001b[39m mu_est \u001b[38;5;241m-\u001b[39m quants \u001b[38;5;241m*\u001b[39m sd_est \u001b[38;5;241m/\u001b[39m np\u001b[38;5;241m.\u001b[39msqrt(n)\n",
      "File \u001b[1;32mc:\\Users\\klaus\\anaconda3\\Lib\\site-packages\\numba\\core\\dispatcher.py:468\u001b[0m, in \u001b[0;36m_DispatcherBase._compile_for_args\u001b[1;34m(self, *args, **kws)\u001b[0m\n\u001b[0;32m    464\u001b[0m         msg \u001b[38;5;241m=\u001b[39m (\u001b[38;5;124mf\u001b[39m\u001b[38;5;124m\"\u001b[39m\u001b[38;5;132;01m{\u001b[39;00m\u001b[38;5;28mstr\u001b[39m(e)\u001b[38;5;241m.\u001b[39mrstrip()\u001b[38;5;132;01m}\u001b[39;00m\u001b[38;5;124m \u001b[39m\u001b[38;5;130;01m\\n\u001b[39;00m\u001b[38;5;130;01m\\n\u001b[39;00m\u001b[38;5;124mThis error may have been caused \u001b[39m\u001b[38;5;124m\"\u001b[39m\n\u001b[0;32m    465\u001b[0m                \u001b[38;5;124mf\u001b[39m\u001b[38;5;124m\"\u001b[39m\u001b[38;5;124mby the following argument(s):\u001b[39m\u001b[38;5;130;01m\\n\u001b[39;00m\u001b[38;5;132;01m{\u001b[39;00margs_str\u001b[38;5;132;01m}\u001b[39;00m\u001b[38;5;130;01m\\n\u001b[39;00m\u001b[38;5;124m\"\u001b[39m)\n\u001b[0;32m    466\u001b[0m         e\u001b[38;5;241m.\u001b[39mpatch_message(msg)\n\u001b[1;32m--> 468\u001b[0m     \u001b[43merror_rewrite\u001b[49m\u001b[43m(\u001b[49m\u001b[43me\u001b[49m\u001b[43m,\u001b[49m\u001b[43m \u001b[49m\u001b[38;5;124;43m'\u001b[39;49m\u001b[38;5;124;43mtyping\u001b[39;49m\u001b[38;5;124;43m'\u001b[39;49m\u001b[43m)\u001b[49m\n\u001b[0;32m    469\u001b[0m \u001b[38;5;28;01mexcept\u001b[39;00m errors\u001b[38;5;241m.\u001b[39mUnsupportedError \u001b[38;5;28;01mas\u001b[39;00m e:\n\u001b[0;32m    470\u001b[0m     \u001b[38;5;66;03m# Something unsupported is present in the user code, add help info\u001b[39;00m\n\u001b[0;32m    471\u001b[0m     error_rewrite(e, \u001b[38;5;124m'\u001b[39m\u001b[38;5;124munsupported_error\u001b[39m\u001b[38;5;124m'\u001b[39m)\n",
      "File \u001b[1;32mc:\\Users\\klaus\\anaconda3\\Lib\\site-packages\\numba\\core\\dispatcher.py:409\u001b[0m, in \u001b[0;36m_DispatcherBase._compile_for_args.<locals>.error_rewrite\u001b[1;34m(e, issue_type)\u001b[0m\n\u001b[0;32m    407\u001b[0m     \u001b[38;5;28;01mraise\u001b[39;00m e\n\u001b[0;32m    408\u001b[0m \u001b[38;5;28;01melse\u001b[39;00m:\n\u001b[1;32m--> 409\u001b[0m     \u001b[38;5;28;01mraise\u001b[39;00m e\u001b[38;5;241m.\u001b[39mwith_traceback(\u001b[38;5;28;01mNone\u001b[39;00m)\n",
      "\u001b[1;31mTypingError\u001b[0m: Failed in nopython mode pipeline (step: nopython frontend)\n\u001b[1m\u001b[1m\u001b[1mNo implementation of function Function(<function std at 0x000001DE4DFF8CC0>) found for signature:\n \n >>> std(array(float64, 1d, C), ddof=Literal[int](1))\n \nThere are 2 candidate implementations:\n\u001b[1m  - Of which 2 did not match due to:\n  Overload in function 'array_std': File: numba\\np\\arraymath.py: Line 467.\n    With argument(s): '(array(float64, 1d, C), ddof=int64)':\u001b[0m\n\u001b[1m   Rejected as the implementation raised a specific error:\n     TypingError: \u001b[1mgot an unexpected keyword argument 'ddof'\u001b[0m\u001b[0m\n  raised from c:\\Users\\klaus\\anaconda3\\Lib\\site-packages\\numba\\core\\typing\\templates.py:784\n\u001b[0m\n\u001b[0m\u001b[1mDuring: resolving callee type: Function(<function std at 0x000001DE4DFF8CC0>)\u001b[0m\n\u001b[0m\u001b[1mDuring: typing of call at C:\\Users\\klaus\\AppData\\Local\\Temp\\ipykernel_14820\\217391346.py (17)\n\u001b[0m\n\u001b[1m\nFile \"..\\..\\..\\..\\..\\..\\AppData\\Local\\Temp\\ipykernel_14820\\217391346.py\", line 17:\u001b[0m\n\u001b[1m<source missing, REPL/exec in use?>\u001b[0m\n"
     ]
    }
   ],
   "source": [
    "import numpy as np\n",
    "from numba import jit\n",
    "from scipy.stats import chi2\n",
    "\n",
    "n = 20\n",
    "df = 1\n",
    "M = 100000\n",
    "alpha = 0.05\n",
    "CI = np.zeros((n, 3))\n",
    "\n",
    "@jit(nopython=True, parallel=True)\n",
    "def bootstrap_t_func(sample, sample_est, n, M):\n",
    "    bootstrap_t_est = np.zeros(M)\n",
    "    for i in range(M):\n",
    "        bootstrap_sample = np.random.choice(sample, n, replace=True)\n",
    "        bootstrap_est = np.mean(bootstrap_sample)\n",
    "        bootstrap_sd_est = np.std(bootstrap_sample, ddof=1)\n",
    "        bootstrap_t_est[i] = np.sqrt(n) * (bootstrap_est - sample_est) / bootstrap_sd_est\n",
    "    return bootstrap_t_est\n",
    "\n",
    "for i in range(n):\n",
    "    sample = np.random.chisquare(df, n)\n",
    "    mu_est = np.mean(sample)\n",
    "    sd_est = np.std(sample, ddof=1)\n",
    "    bootstrap_est = bootstrap_t_func(sample, mu_est, n, M)\n",
    "    quants = np.quantile(bootstrap_est, [1-alpha/2, alpha/2])\n",
    "    CI[i, 0:2] = mu_est - quants * sd_est / np.sqrt(n)\n",
    "    CI[i, 2] = (CI[i, 0] <= df) & (CI[i, 1] >= df)\n",
    "\n",
    "coverage_prob = np.sum(CI[:, 2]) / n\n",
    "print(coverage_prob)\n"
   ]
  },
  {
   "cell_type": "code",
   "execution_count": 11,
   "metadata": {},
   "outputs": [
    {
     "ename": "KeyboardInterrupt",
     "evalue": "",
     "output_type": "error",
     "traceback": [
      "\u001b[1;31m---------------------------------------------------------------------------\u001b[0m",
      "\u001b[1;31mKeyboardInterrupt\u001b[0m                         Traceback (most recent call last)",
      "Cell \u001b[1;32mIn[11], line 25\u001b[0m\n\u001b[0;32m     23\u001b[0m mu_est \u001b[38;5;241m=\u001b[39m np\u001b[38;5;241m.\u001b[39mmean(sample)\n\u001b[0;32m     24\u001b[0m sd_est \u001b[38;5;241m=\u001b[39m np\u001b[38;5;241m.\u001b[39mstd(sample, ddof\u001b[38;5;241m=\u001b[39m\u001b[38;5;241m1\u001b[39m)\n\u001b[1;32m---> 25\u001b[0m bootstrap_est \u001b[38;5;241m=\u001b[39m \u001b[43mbootstrap_t_func\u001b[49m\u001b[43m(\u001b[49m\u001b[43msample\u001b[49m\u001b[43m,\u001b[49m\u001b[43m \u001b[49m\u001b[43mmu_est\u001b[49m\u001b[43m,\u001b[49m\u001b[43m \u001b[49m\u001b[43mn\u001b[49m\u001b[43m,\u001b[49m\u001b[43m \u001b[49m\u001b[43mM\u001b[49m\u001b[43m)\u001b[49m\n\u001b[0;32m     26\u001b[0m quants \u001b[38;5;241m=\u001b[39m np\u001b[38;5;241m.\u001b[39mquantile(bootstrap_est, [\u001b[38;5;241m1\u001b[39m\u001b[38;5;241m-\u001b[39malpha\u001b[38;5;241m/\u001b[39m\u001b[38;5;241m2\u001b[39m, alpha\u001b[38;5;241m/\u001b[39m\u001b[38;5;241m2\u001b[39m])\n\u001b[0;32m     27\u001b[0m CI[i, \u001b[38;5;241m0\u001b[39m:\u001b[38;5;241m2\u001b[39m] \u001b[38;5;241m=\u001b[39m mu_est \u001b[38;5;241m-\u001b[39m quants \u001b[38;5;241m*\u001b[39m sd_est \u001b[38;5;241m/\u001b[39m np\u001b[38;5;241m.\u001b[39msqrt(n)\n",
      "File \u001b[1;32mc:\\Users\\klaus\\anaconda3\\Lib\\site-packages\\numba\\core\\serialize.py:30\u001b[0m, in \u001b[0;36m_numba_unpickle\u001b[1;34m(address, bytedata, hashed)\u001b[0m\n\u001b[0;32m     26\u001b[0m \u001b[38;5;66;03m# Keep unpickled object via `numba_unpickle` alive.\u001b[39;00m\n\u001b[0;32m     27\u001b[0m _unpickled_memo \u001b[38;5;241m=\u001b[39m {}\n\u001b[1;32m---> 30\u001b[0m \u001b[38;5;28;01mdef\u001b[39;00m \u001b[38;5;21m_numba_unpickle\u001b[39m(address, bytedata, hashed):\n\u001b[0;32m     31\u001b[0m \u001b[38;5;250m    \u001b[39m\u001b[38;5;124;03m\"\"\"Used by `numba_unpickle` from _helperlib.c\u001b[39;00m\n\u001b[0;32m     32\u001b[0m \n\u001b[0;32m     33\u001b[0m \u001b[38;5;124;03m    Parameters\u001b[39;00m\n\u001b[1;32m   (...)\u001b[0m\n\u001b[0;32m     42\u001b[0m \u001b[38;5;124;03m        unpickled object\u001b[39;00m\n\u001b[0;32m     43\u001b[0m \u001b[38;5;124;03m    \"\"\"\u001b[39;00m\n\u001b[0;32m     44\u001b[0m     key \u001b[38;5;241m=\u001b[39m (address, hashed)\n",
      "\u001b[1;31mKeyboardInterrupt\u001b[0m: "
     ]
    }
   ],
   "source": [
    "import numpy as np\n",
    "from numba import jit, prange\n",
    "\n",
    "n = 10000\n",
    "df = 1\n",
    "M = 100000\n",
    "alpha = 0.05\n",
    "CI = np.zeros((n, 3))\n",
    "\n",
    "@jit(nopython=True, parallel=True)\n",
    "def bootstrap_t_func(sample, sample_est, n, M):\n",
    "    bootstrap_t_est = np.zeros(M)\n",
    "    for i in prange(M):\n",
    "        bootstrap_sample = np.random.choice(sample, n, replace=True)\n",
    "        bootstrap_est = np.mean(bootstrap_sample)\n",
    "        # Manually calculate standard deviation with ddof=1\n",
    "        bootstrap_sd_est = np.sqrt(np.sum((bootstrap_sample - bootstrap_est)**2) / (n - 1))\n",
    "        bootstrap_t_est[i] = np.sqrt(n) * (bootstrap_est - sample_est) / bootstrap_sd_est\n",
    "    return bootstrap_t_est\n",
    "\n",
    "for i in range(n):\n",
    "    sample = np.random.chisquare(df, n)\n",
    "    mu_est = np.mean(sample)\n",
    "    sd_est = np.std(sample, ddof=1)\n",
    "    bootstrap_est = bootstrap_t_func(sample, mu_est, n, M)\n",
    "    quants = np.quantile(bootstrap_est, [1-alpha/2, alpha/2])\n",
    "    CI[i, 0:2] = mu_est - quants * sd_est / np.sqrt(n)\n",
    "    CI[i, 2] = (CI[i, 0] <= df) & (CI[i, 1] >= df)\n",
    "\n",
    "coverage_prob = np.sum(CI[:, 2]) / n\n",
    "print(coverage_prob)\n"
   ]
  },
  {
   "cell_type": "code",
   "execution_count": 8,
   "metadata": {},
   "outputs": [
    {
     "name": "stdout",
     "output_type": "stream",
     "text": [
      "0.9\n"
     ]
    }
   ],
   "source": [
    "import numpy as np\n",
    "from numba import jit, prange\n",
    "\n",
    "n = 20\n",
    "df = 1\n",
    "M = 100000\n",
    "alpha = 0.05\n",
    "CI = np.zeros((n, 3))\n",
    "\n",
    "@jit(nopython=True, parallel=True)\n",
    "def bootstrap_t_func(sample, sample_est, n, M):\n",
    "    bootstrap_t_est = np.zeros(M)\n",
    "    for i in prange(M):\n",
    "        bootstrap_sample = np.random.choice(sample, n, replace=True)\n",
    "        bootstrap_est = np.mean(bootstrap_sample)\n",
    "        bootstrap_sd_est = np.sqrt(np.sum((bootstrap_sample - bootstrap_est)**2) / (n - 1))\n",
    "        bootstrap_t_est[i] = np.sqrt(n) * (bootstrap_est - sample_est) / bootstrap_sd_est\n",
    "    return bootstrap_t_est\n",
    "\n",
    "@jit(nopython=True, parallel=True)\n",
    "def calculate_CI(n, df, M, alpha):\n",
    "    CI = np.zeros((n, 3))\n",
    "    for i in prange(n):\n",
    "        sample = np.random.chisquare(df, n)\n",
    "        mu_est = np.mean(sample)\n",
    "        sd_est = np.sqrt(np.sum((sample - mu_est)**2) / (n - 1))\n",
    "        bootstrap_est = bootstrap_t_func(sample, mu_est, n, M)\n",
    "        quants = np.quantile(bootstrap_est, [1 - alpha/2, alpha/2])\n",
    "        CI[i, 0:2] = mu_est - quants * sd_est / np.sqrt(n)\n",
    "        CI[i, 2] = (CI[i, 0] <= df) & (CI[i, 1] >= df)\n",
    "    return CI\n",
    "\n",
    "CI = calculate_CI(n, df, M, alpha)\n",
    "coverage_prob = np.sum(CI[:, 2]) / n\n",
    "print(coverage_prob)\n"
   ]
  },
  {
   "cell_type": "code",
   "execution_count": null,
   "metadata": {},
   "outputs": [
    {
     "name": "stdout",
     "output_type": "stream",
     "text": [
      "0.9\n"
     ]
    }
   ],
   "source": [
    "import numpy as np\n",
    "from numba import jit, njit, prange\n",
    "\n",
    "n = 100000\n",
    "df = 1\n",
    "M = 100000\n",
    "alpha = 0.05\n",
    "CI = np.zeros((n, 3))\n",
    "\n",
    "@njit(parallel=True)\n",
    "def bootstrap_t_func(sample, sample_est, n, M):\n",
    "    bootstrap_t_est = np.zeros(M)\n",
    "    for i in prange(M):\n",
    "        bootstrap_sample = np.random.choice(sample, n, replace=True)\n",
    "        bootstrap_est = np.mean(bootstrap_sample)\n",
    "        bootstrap_sd_est = np.sqrt(np.sum((bootstrap_sample - bootstrap_est)**2) / (n - 1))\n",
    "        bootstrap_t_est[i] = np.sqrt(n) * (bootstrap_est - sample_est) / bootstrap_sd_est\n",
    "    return bootstrap_t_est\n",
    "\n",
    "@njit(parallel=True)\n",
    "def calculate_CI(n, df, M, alpha):\n",
    "    CI = np.zeros((n, 3))\n",
    "    for i in prange(n):\n",
    "        sample = np.random.chisquare(df, n)\n",
    "        mu_est = np.mean(sample)\n",
    "        sd_est = np.sqrt(np.sum((sample - mu_est)**2) / (n - 1))\n",
    "        bootstrap_est = bootstrap_t_func(sample, mu_est, n, M)\n",
    "        quants = np.quantile(bootstrap_est, [1 - alpha/2, alpha/2])\n",
    "        CI[i, 0:2] = mu_est - quants * sd_est / np.sqrt(n)\n",
    "        CI[i, 2] = (CI[i, 0] <= df) & (CI[i, 1] >= df)\n",
    "    return CI\n",
    "\n",
    "CI = calculate_CI(n, df, M, alpha)\n",
    "coverage_prob = np.sum(CI[:, 2]) / n\n",
    "print(coverage_prob)\n"
   ]
  }
 ],
 "metadata": {
  "kernelspec": {
   "display_name": "base",
   "language": "python",
   "name": "python3"
  },
  "language_info": {
   "codemirror_mode": {
    "name": "ipython",
    "version": 3
   },
   "file_extension": ".py",
   "mimetype": "text/x-python",
   "name": "python",
   "nbconvert_exporter": "python",
   "pygments_lexer": "ipython3",
   "version": "3.11.5"
  }
 },
 "nbformat": 4,
 "nbformat_minor": 2
}
